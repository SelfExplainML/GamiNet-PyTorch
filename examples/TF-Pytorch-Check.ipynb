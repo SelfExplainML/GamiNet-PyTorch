{
 "cells": [
  {
   "cell_type": "code",
   "execution_count": 1,
   "metadata": {
    "ExecuteTime": {
     "end_time": "2022-04-03T02:42:01.439988Z",
     "start_time": "2022-04-03T02:41:59.900308Z"
    },
    "scrolled": true
   },
   "outputs": [],
   "source": [
    "%matplotlib inline\n",
    "\n",
    "import os\n",
    "import sys\n",
    "\n",
    "PACKAGE_PARENT = '..'\n",
    "sys.path.append(PACKAGE_PARENT)\n",
    "\n",
    "import torch\n",
    "import numpy as np\n",
    "from sklearn.preprocessing import MinMaxScaler\n",
    "from sklearn.model_selection import train_test_split\n",
    "\n",
    "from gaminet import GAMINetRegressor\n",
    "from gaminet.utils import local_visualize\n",
    "from gaminet.utils import global_visualize_density\n",
    "from gaminet.utils import feature_importance_visualize\n",
    "from gaminet.utils import plot_trajectory\n",
    "from gaminet.utils import plot_regularization"
   ]
  },
  {
   "cell_type": "markdown",
   "metadata": {},
   "source": [
    "## Load data"
   ]
  },
  {
   "cell_type": "code",
   "execution_count": 2,
   "metadata": {
    "ExecuteTime": {
     "end_time": "2022-04-03T02:42:03.637759Z",
     "start_time": "2022-04-03T02:42:01.441368Z"
    }
   },
   "outputs": [],
   "source": [
    "def metric_wrapper(metric, scaler):\n",
    "    def wrapper(label, pred):\n",
    "        return metric(label, pred, scaler=scaler)\n",
    "    return wrapper\n",
    "\n",
    "def rmse(label, pred, scaler):\n",
    "    pred = scaler.inverse_transform(pred.reshape([-1, 1]))\n",
    "    label = scaler.inverse_transform(label.reshape([-1, 1]))\n",
    "    return np.sqrt(np.mean((pred - label)**2))\n",
    "\n",
    "def data_generator1(datanum, dist=\"uniform\", random_state=0):\n",
    "    \n",
    "    nfeatures = 100\n",
    "    np.random.seed(random_state)\n",
    "    x = np.random.uniform(0, 1, [datanum, nfeatures])\n",
    "    x1, x2, x3, x4, x5, x6 = [x[:, [i]] for i in range(6)]\n",
    "\n",
    "    def cliff(x1, x2):\n",
    "        # x1: -20,20\n",
    "        # x2: -10,5\n",
    "        x1 = (2 * x1 - 1) * 20\n",
    "        x2 = (2 * x2 - 1) * 7.5 - 2.5\n",
    "        term1 = -0.5 * x1 ** 2 / 100\n",
    "        term2 = -0.5 * (x2 + 0.03 * x1 ** 2 - 3) ** 2\n",
    "        y = 10 * np.exp(term1 + term2)\n",
    "        return  y\n",
    "\n",
    "    y = (8 * (x1 - 0.5) ** 2\n",
    "        + 0.1 * np.exp(-8 * x2 + 4)\n",
    "        + 3 * np.sin(2 * np.pi * x3 * x4) + cliff(x5, x6)\n",
    "        ).reshape([-1,1]) + 1 * np.random.normal(0, 1, [datanum, 1])\n",
    "\n",
    "    task_type = \"Regression\"\n",
    "    meta_info = {\"X\" + str(i + 1):{'type':'continuous'} for i in range(nfeatures)}\n",
    "    meta_info.update({'Y':{'type':'target'}})         \n",
    "    for i, (key, item) in enumerate(meta_info.items()):\n",
    "        if item['type'] == 'target':\n",
    "            sy = MinMaxScaler((0, 1))\n",
    "            y = sy.fit_transform(y)\n",
    "            meta_info[key]['scaler'] = sy\n",
    "        else:\n",
    "            sx = MinMaxScaler((0, 1))\n",
    "            sx.fit([[0], [1]])\n",
    "            x[:,[i]] = sx.transform(x[:,[i]])\n",
    "            meta_info[key]['scaler'] = sx\n",
    "\n",
    "    train_x, test_x, train_y, test_y = train_test_split(x, y, test_size=0.2, random_state=random_state)\n",
    "    return train_x, test_x, train_y, test_y, task_type, meta_info, metric_wrapper(rmse, sy)\n",
    "\n",
    "random_state = 0\n",
    "train_x, test_x, train_y, test_y, task_type, meta_info, get_metric = data_generator1(datanum=1000000, random_state=random_state)"
   ]
  },
  {
   "cell_type": "markdown",
   "metadata": {
    "ExecuteTime": {
     "end_time": "2022-04-03T02:38:14.163923Z",
     "start_time": "2022-04-03T02:38:14.162077Z"
    }
   },
   "source": [
    "# Compare pytorch and tensorflow GAM"
   ]
  },
  {
   "cell_type": "code",
   "execution_count": 3,
   "metadata": {
    "ExecuteTime": {
     "end_time": "2022-04-03T02:42:03.657084Z",
     "start_time": "2022-04-03T02:42:03.638916Z"
    }
   },
   "outputs": [
    {
     "data": {
      "text/plain": [
       "tensor([-0.0842, -0.0735, -0.0710, -0.1213,  0.0126, -0.1070, -0.2776, -0.0694,\n",
       "        -0.2091,  0.1363], grad_fn=<SumBackward1>)"
      ]
     },
     "execution_count": 3,
     "metadata": {},
     "output_type": "execute_result"
    }
   ],
   "source": [
    "import torch\n",
    "\n",
    "\n",
    "class TensorLayer(torch.nn.Module):\n",
    "\n",
    "    def __init__(self, n_subnets, subnet_arch, n_input_nodes, activation_func, device):\n",
    "        super().__init__()\n",
    "\n",
    "        self.device = device\n",
    "        self.n_subnets = n_subnets\n",
    "        self.n_input_nodes = n_input_nodes\n",
    "        self.activation_func = activation_func\n",
    "        self.n_hidden_layers = len(subnet_arch)\n",
    "\n",
    "        all_biases = [] \n",
    "        all_weights = []\n",
    "        n_hidden_nodes_prev = n_input_nodes\n",
    "        for i, n_hidden_nodes in enumerate(subnet_arch + [1]):\n",
    "            if i == 0:\n",
    "                w = torch.nn.Parameter(torch.empty(size=(n_subnets, n_hidden_nodes_prev, n_hidden_nodes),\n",
    "                                dtype=torch.float, requires_grad=True, device=device))\n",
    "                b = torch.nn.Parameter(torch.empty(size=(n_subnets, n_hidden_nodes),\n",
    "                                dtype=torch.float, requires_grad=True, device=device))\n",
    "            elif i == self.n_hidden_layers:\n",
    "                w = torch.nn.Parameter(torch.empty(size=(n_subnets, n_hidden_nodes_prev, 1),\n",
    "                                dtype=torch.float, requires_grad=True, device=device))\n",
    "                b = torch.nn.Parameter(torch.empty(size=(n_subnets, 1),\n",
    "                                dtype=torch.float, requires_grad=True, device=device))\n",
    "            else:\n",
    "                w = torch.nn.Parameter(torch.empty(size=(n_subnets, n_hidden_nodes_prev, n_hidden_nodes),\n",
    "                                dtype=torch.float, requires_grad=True, device=device))\n",
    "                b = torch.nn.Parameter(torch.empty(size=(n_subnets, n_hidden_nodes),\n",
    "                                dtype=torch.float, requires_grad=True, device=device))\n",
    "            n_hidden_nodes_prev = n_hidden_nodes\n",
    "            torch.nn.init.zeros_(b)\n",
    "            for j in range(n_subnets):\n",
    "                torch.nn.init.orthogonal_(w[j])\n",
    "            all_biases.append(b)\n",
    "            all_weights.append(w)\n",
    "        self.all_biases = torch.nn.ParameterList(all_biases)\n",
    "        self.all_weights = torch.nn.ParameterList(all_weights)\n",
    "\n",
    "    def individual_forward(self, inputs, idx):\n",
    "\n",
    "        xs = inputs\n",
    "        for i in range(self.n_hidden_layers):\n",
    "            xs = self.activation_func(torch.matmul(xs, self.all_weights[i][idx]) + self.all_biases[i][idx])\n",
    "        outputs = torch.matmul(xs, self.all_weights[-1][idx]) + self.all_biases[-1][idx]\n",
    "        return outputs\n",
    "\n",
    "    def forward(self, inputs):\n",
    "\n",
    "        xs = torch.unsqueeze(torch.transpose(inputs, 0, 1), 2)\n",
    "        for i in range(self.n_hidden_layers):\n",
    "            xs = self.activation_func(torch.matmul(xs, self.all_weights[i])\n",
    "                              + torch.reshape(self.all_biases[i], [self.n_subnets, 1, -1]))\n",
    "\n",
    "        outputs = torch.matmul(xs, self.all_weights[-1]) + torch.reshape(self.all_biases[-1], [self.n_subnets, 1, -1])\n",
    "        outputs = torch.squeeze(torch.transpose(outputs, 0, 1), dim=2)\n",
    "        outputs = outputs.sum(1)\n",
    "        return outputs\n",
    "\n",
    "random_state = 0\n",
    "np.random.seed(random_state)\n",
    "torch.manual_seed(random_state)\n",
    "net = TensorLayer(n_subnets=5, subnet_arch=[10], n_input_nodes=1, activation_func=torch.nn.ReLU(), device=\"cpu\")\n",
    "coefs = [[net.all_weights[0][i].detach().numpy().copy(), net.all_weights[1][i].detach().numpy().copy()] for i in range(5)]\n",
    "net.forward(torch.tensor(train_x[:10, :5], dtype=torch.float32))"
   ]
  },
  {
   "cell_type": "code",
   "execution_count": 4,
   "metadata": {
    "ExecuteTime": {
     "end_time": "2022-04-03T02:42:03.675409Z",
     "start_time": "2022-04-03T02:42:03.658185Z"
    }
   },
   "outputs": [
    {
     "name": "stdout",
     "output_type": "stream",
     "text": [
      "[ 0.077  0.1    0.124  0.051  0.149  0.053 -0.112  0.072 -0.029  0.291]\n",
      "[0.233 0.264 0.312 0.217 0.277 0.205 0.047 0.209 0.145 0.435]\n",
      "[0.373 0.41  0.477 0.367 0.388 0.342 0.191 0.333 0.301 0.564]\n",
      "[0.479 0.52  0.603 0.482 0.474 0.448 0.302 0.425 0.421 0.66 ]\n",
      "[0.539 0.583 0.674 0.549 0.521 0.509 0.367 0.479 0.489 0.713]\n",
      "[0.555 0.599 0.694 0.568 0.533 0.528 0.386 0.494 0.509 0.725]\n",
      "[0.539 0.582 0.674 0.552 0.518 0.513 0.372 0.481 0.493 0.708]\n",
      "[0.502 0.541 0.628 0.512 0.485 0.476 0.336 0.448 0.453 0.669]\n",
      "[0.453 0.488 0.566 0.457 0.442 0.426 0.286 0.404 0.399 0.619]\n",
      "[0.398 0.428 0.498 0.396 0.395 0.37  0.23  0.354 0.339 0.564]\n"
     ]
    }
   ],
   "source": [
    "from gaminet.dataloader import FastTensorDataLoader\n",
    "loss_fn = torch.nn.MSELoss(reduction=\"none\")\n",
    "opt = torch.optim.Adam(list(net.parameters()), lr=0.01)\n",
    "for epoch in range(10):\n",
    "    net.train()\n",
    "    opt.zero_grad(set_to_none=True)\n",
    "    batch_xx = torch.tensor(train_x[:100, :5], dtype=torch.float32)\n",
    "    batch_yy = torch.tensor(train_y[:100], dtype=torch.float32).ravel()\n",
    "    pred = net(batch_xx).ravel()\n",
    "    loss = torch.mean(loss_fn(pred, batch_yy))\n",
    "    loss.backward()\n",
    "    opt.step()\n",
    "    print(net(torch.tensor(train_x[:10, :5], dtype=torch.float32)).ravel().detach().numpy().round(3))"
   ]
  },
  {
   "cell_type": "code",
   "execution_count": 5,
   "metadata": {
    "ExecuteTime": {
     "end_time": "2022-04-03T02:42:06.381597Z",
     "start_time": "2022-04-03T02:42:03.676457Z"
    }
   },
   "outputs": [
    {
     "name": "stderr",
     "output_type": "stream",
     "text": [
      "2022-04-03 10:42:04.035523: W tensorflow/stream_executor/platform/default/dso_loader.cc:64] Could not load dynamic library 'libcudart.so.11.0'; dlerror: libcudart.so.11.0: cannot open shared object file: No such file or directory\n",
      "2022-04-03 10:42:04.035549: I tensorflow/stream_executor/cuda/cudart_stub.cc:29] Ignore above cudart dlerror if you do not have a GPU set up on your machine.\n"
     ]
    },
    {
     "name": "stdout",
     "output_type": "stream",
     "text": [
      "[-0.08416221 -0.07353798 -0.07099413 -0.12131885  0.01259092 -0.10699715\n",
      " -0.2775642  -0.06943712 -0.20914906  0.13627838]\n"
     ]
    },
    {
     "name": "stderr",
     "output_type": "stream",
     "text": [
      "2022-04-03 10:42:06.359079: W tensorflow/stream_executor/platform/default/dso_loader.cc:64] Could not load dynamic library 'libcuda.so.1'; dlerror: libcuda.so.1: cannot open shared object file: No such file or directory\n",
      "2022-04-03 10:42:06.359102: W tensorflow/stream_executor/cuda/cuda_driver.cc:269] failed call to cuInit: UNKNOWN ERROR (303)\n",
      "2022-04-03 10:42:06.359116: I tensorflow/stream_executor/cuda/cuda_diagnostics.cc:156] kernel driver does not appear to be running on this host (iZwz989gvg9q1cbx1wnjqlZ): /proc/driver/nvidia/version does not exist\n",
      "2022-04-03 10:42:06.359312: I tensorflow/core/platform/cpu_feature_guard.cc:151] This TensorFlow binary is optimized with oneAPI Deep Neural Network Library (oneDNN) to use the following CPU instructions in performance-critical operations:  AVX2 FMA\n",
      "To enable them in other operations, rebuild TensorFlow with the appropriate compiler flags.\n"
     ]
    }
   ],
   "source": [
    "import tensorflow as tf\n",
    "from tensorflow.keras import layers\n",
    "\n",
    "class NumerNet(tf.keras.layers.Layer):\n",
    "\n",
    "    def __init__(self, subnet_arch, activation_func, weight_init, subnet_id):\n",
    "        super(NumerNet, self).__init__()\n",
    "        self.layers = []\n",
    "        self.subnet_arch = subnet_arch\n",
    "        self.activation_func = activation_func\n",
    "        self.subnet_id = subnet_id\n",
    "        for nodes in self.subnet_arch:\n",
    "            self.layers.append(layers.Dense(nodes, activation=self.activation_func,\n",
    "                                            kernel_initializer=tf.keras.initializers.Constant(weight_init[0])))\n",
    "        self.output_layer = layers.Dense(1, activation=tf.identity, kernel_initializer=tf.keras.initializers.Constant(weight_init[1]))\n",
    "\n",
    "    def call(self, inputs):\n",
    "\n",
    "        x = inputs\n",
    "        for dense_layer in self.layers:\n",
    "            x = dense_layer(x)\n",
    "        output = self.output_layer(x)\n",
    "        return output\n",
    "\n",
    "\n",
    "class MainEffectBlock(tf.keras.layers.Layer):\n",
    "\n",
    "    def __init__(self, n_subnets, subnet_arch, activation_func):\n",
    "        super(MainEffectBlock, self).__init__()\n",
    "\n",
    "        self.n_subnets = n_subnets\n",
    "        self.subnet_arch = subnet_arch\n",
    "        self.activation_func = activation_func\n",
    "        self.subnets = []\n",
    "        for i in range(self.n_subnets):\n",
    "            self.subnets.append(NumerNet(self.subnet_arch, self.activation_func, weight_init=coefs[i], subnet_id=i))\n",
    "\n",
    "    def call(self, inputs):\n",
    "\n",
    "        self.subnet_outputs = []\n",
    "        for i in range(self.n_subnets):\n",
    "            subnet = self.subnets[i]\n",
    "            subnet_output = subnet(tf.gather(inputs, [i], axis=1))\n",
    "            self.subnet_outputs.append(subnet_output)\n",
    "        output = tf.reshape(tf.squeeze(tf.stack(self.subnet_outputs, 1)), [-1, self.n_subnets])\n",
    "        output = tf.reduce_sum(output, 1)\n",
    "        return output\n",
    "\n",
    "tfnet = MainEffectBlock(5, [10], activation_func=tf.nn.relu)\n",
    "print(tfnet.__call__(train_x[:10, :5]).numpy())"
   ]
  },
  {
   "cell_type": "code",
   "execution_count": 6,
   "metadata": {
    "ExecuteTime": {
     "end_time": "2022-04-03T02:42:06.530659Z",
     "start_time": "2022-04-03T02:42:06.382732Z"
    }
   },
   "outputs": [
    {
     "name": "stdout",
     "output_type": "stream",
     "text": [
      "[ 0.077  0.1    0.124  0.051  0.149  0.053 -0.112  0.072 -0.029  0.291]\n",
      "[0.233 0.264 0.312 0.217 0.277 0.205 0.047 0.209 0.145 0.435]\n",
      "[0.373 0.41  0.477 0.367 0.388 0.342 0.191 0.333 0.301 0.564]\n",
      "[0.479 0.52  0.603 0.482 0.474 0.448 0.302 0.425 0.421 0.66 ]\n",
      "[0.539 0.583 0.674 0.549 0.521 0.509 0.367 0.479 0.489 0.713]\n",
      "[0.555 0.599 0.694 0.568 0.533 0.528 0.386 0.494 0.509 0.725]\n",
      "[0.539 0.582 0.674 0.552 0.518 0.513 0.372 0.481 0.493 0.708]\n",
      "[0.502 0.541 0.628 0.512 0.485 0.476 0.336 0.448 0.453 0.669]\n",
      "[0.453 0.488 0.566 0.457 0.442 0.426 0.286 0.404 0.399 0.619]\n",
      "[0.398 0.428 0.498 0.396 0.395 0.37  0.23  0.354 0.339 0.564]\n"
     ]
    }
   ],
   "source": [
    "optimizer = tf.keras.optimizers.Adam(learning_rate=0.01)\n",
    "loss_fn = tf.keras.losses.MeanSquaredError()\n",
    "for epoch in range(10):\n",
    "    batch_xx = train_x[:100, :5]\n",
    "    batch_yy = train_y[:100].ravel()\n",
    "    with tf.GradientTape() as tape:\n",
    "        pred = tfnet.__call__(batch_xx)\n",
    "        total_loss = loss_fn(batch_yy, pred)\n",
    "    grads = tape.gradient(total_loss, tfnet.trainable_weights)\n",
    "    optimizer.apply_gradients(zip(grads, tfnet.trainable_weights))\n",
    "    print(tfnet.__call__(train_x[:10, :5]).numpy().round(3))"
   ]
  }
 ],
 "metadata": {
  "kernelspec": {
   "display_name": "py39",
   "language": "python",
   "name": "py39"
  },
  "language_info": {
   "codemirror_mode": {
    "name": "ipython",
    "version": 3
   },
   "file_extension": ".py",
   "mimetype": "text/x-python",
   "name": "python",
   "nbconvert_exporter": "python",
   "pygments_lexer": "ipython3",
   "version": "3.9.10"
  },
  "latex_envs": {
   "LaTeX_envs_menu_present": true,
   "autoclose": false,
   "autocomplete": true,
   "bibliofile": "biblio.bib",
   "cite_by": "apalike",
   "current_citInitial": 1,
   "eqLabelWithNumbers": true,
   "eqNumInitial": 1,
   "hotkeys": {
    "equation": "Ctrl-E",
    "itemize": "Ctrl-I"
   },
   "labels_anchors": false,
   "latex_user_defs": false,
   "report_style_numbering": false,
   "user_envs_cfg": false
  },
  "varInspector": {
   "cols": {
    "lenName": 16,
    "lenType": 16,
    "lenVar": 40
   },
   "kernels_config": {
    "python": {
     "delete_cmd_postfix": "",
     "delete_cmd_prefix": "del ",
     "library": "var_list.py",
     "varRefreshCmd": "print(var_dic_list())"
    },
    "r": {
     "delete_cmd_postfix": ") ",
     "delete_cmd_prefix": "rm(",
     "library": "var_list.r",
     "varRefreshCmd": "cat(var_dic_list()) "
    }
   },
   "types_to_exclude": [
    "module",
    "function",
    "builtin_function_or_method",
    "instance",
    "_Feature"
   ],
   "window_display": false
  }
 },
 "nbformat": 4,
 "nbformat_minor": 2
}
